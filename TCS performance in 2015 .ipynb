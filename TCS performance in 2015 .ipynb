{
 "cells": [
  {
   "cell_type": "code",
   "execution_count": 1,
   "metadata": {
    "collapsed": false
   },
   "outputs": [
    {
     "name": "stderr",
     "output_type": "stream",
     "text": [
      "C:\\Users\\Afizullah\\Anaconda3\\lib\\site-packages\\pandas\\io\\data.py:33: FutureWarning: \n",
      "The pandas.io.data module is moved to a separate package (pandas-datareader) and will be removed from pandas in a future version.\n",
      "After installing the pandas-datareader package (https://github.com/pydata/pandas-datareader), you can change the import ``from pandas.io import data, wb`` to ``from pandas_datareader import data, wb``.\n",
      "  FutureWarning)\n"
     ]
    }
   ],
   "source": [
    "import pandas as pd\n",
    "from pandas import DataFrame \n",
    "import datetime\n",
    "import pandas.io.data\n"
   ]
  },
  {
   "cell_type": "code",
   "execution_count": 11,
   "metadata": {
    "collapsed": false
   },
   "outputs": [],
   "source": [
    "#fetching data for TCS from yahoo \n",
    "TCSdata = pd.io.data.get_data_yahoo('TCS.NS',\n",
    "                                 start=datetime.datetime(2015,1,1),\n",
    "                                 end=datetime.datetime(2015,12,1))"
   ]
  },
  {
   "cell_type": "code",
   "execution_count": 13,
   "metadata": {
    "collapsed": false
   },
   "outputs": [
    {
     "name": "stdout",
     "output_type": "stream",
     "text": [
      "              Open     High      Low    Close   Volume  Adj Close\n",
      "Date                                                             \n",
      "2015-01-01  2567.0  2567.00  2541.00  2545.55   183400   2506.201\n",
      "2015-01-02  2551.0  2590.95  2550.60  2579.45   462800   2539.577\n",
      "2015-01-05  2581.0  2599.90  2524.65  2540.25   877100   2500.983\n",
      "2015-01-06  2529.1  2529.10  2440.00  2446.60  1211800   2408.781\n",
      "2015-01-07  2470.0  2479.15  2407.45  2417.70  1318100   2380.327\n"
     ]
    }
   ],
   "source": [
    "#printing first 5 rows. \n",
    "print(TCSdata.head())"
   ]
  },
  {
   "cell_type": "code",
   "execution_count": 14,
   "metadata": {
    "collapsed": true
   },
   "outputs": [],
   "source": [
    "#writing entire data to csv file. \n",
    "TCSdata.to_csv('tcsdata.csv')"
   ]
  },
  {
   "cell_type": "code",
   "execution_count": 16,
   "metadata": {
    "collapsed": false
   },
   "outputs": [
    {
     "name": "stdout",
     "output_type": "stream",
     "text": [
      "Date\n",
      "2015-01-01    2567.0\n",
      "2015-01-02    2551.0\n",
      "2015-01-05    2581.0\n",
      "2015-01-06    2529.1\n",
      "2015-01-07    2470.0\n",
      "Name: Open, dtype: float64\n"
     ]
    }
   ],
   "source": [
    "#reading data back from csv file. \n",
    "data = pd.read_csv('tcsdata.csv',index_col='Date', parse_dates=True )\n",
    "#print(data.head())\n",
    "\n",
    "#selecting only Open column. \n",
    "data_open = data['Open']\n",
    "print(data_open.head())"
   ]
  },
  {
   "cell_type": "code",
   "execution_count": 17,
   "metadata": {
    "collapsed": false
   },
   "outputs": [
    {
     "name": "stdout",
     "output_type": "stream",
     "text": [
      "              Close     High\n",
      "Date                        \n",
      "2015-01-01  2545.55  2567.00\n",
      "2015-01-02  2579.45  2590.95\n",
      "2015-01-05  2540.25  2599.90\n",
      "2015-01-06  2446.60  2529.10\n",
      "2015-01-07  2417.70  2479.15\n"
     ]
    }
   ],
   "source": [
    "#selecting multiple columns from data \n",
    "columns = ['Close', 'High']\n",
    "dch=data[columns]\n",
    "print(dch.head())"
   ]
  },
  {
   "cell_type": "code",
   "execution_count": 20,
   "metadata": {
    "collapsed": false
   },
   "outputs": [
    {
     "name": "stdout",
     "output_type": "stream",
     "text": [
      "              CLOSE     High\n",
      "Date                        \n",
      "2015-01-01  2545.55  2567.00\n",
      "2015-01-02  2579.45  2590.95\n",
      "2015-01-05  2540.25  2599.90\n",
      "2015-01-06  2446.60  2529.10\n",
      "2015-01-07  2417.70  2479.15\n"
     ]
    },
    {
     "name": "stderr",
     "output_type": "stream",
     "text": [
      "C:\\Users\\Afizullah\\Anaconda3\\lib\\site-packages\\pandas\\core\\frame.py:2697: SettingWithCopyWarning: \n",
      "A value is trying to be set on a copy of a slice from a DataFrame\n",
      "\n",
      "See the caveats in the documentation: http://pandas.pydata.org/pandas-docs/stable/indexing.html#indexing-view-versus-copy\n",
      "  **kwargs)\n"
     ]
    }
   ],
   "source": [
    "#renaming columns\n",
    "dch.rename(columns={'Close':'CLOSE'}, inplace=True)\n",
    "print(dch.head())"
   ]
  },
  {
   "cell_type": "code",
   "execution_count": 21,
   "metadata": {
    "collapsed": false
   },
   "outputs": [
    {
     "name": "stdout",
     "output_type": "stream",
     "text": [
      "              CLOSE     High\n",
      "Date                        \n",
      "2015-01-01  2545.55  2567.00\n",
      "2015-01-02  2579.45  2590.95\n",
      "2015-01-05  2540.25  2599.90\n",
      "2015-01-06  2446.60  2529.10\n",
      "2015-01-07  2417.70  2479.15\n",
      "2015-01-08  2443.80  2449.00\n",
      "2015-01-09  2512.30  2519.90\n",
      "2015-01-12  2509.70  2528.00\n",
      "2015-01-13  2497.90  2530.40\n",
      "2015-01-14  2521.95  2531.80\n",
      "2015-01-15  2539.10  2581.75\n",
      "2015-01-16  2532.15  2545.00\n",
      "2015-01-19  2511.00  2551.00\n",
      "2015-01-20  2500.45  2530.00\n",
      "2015-01-21  2513.80  2522.00\n",
      "2015-01-22  2513.55  2521.25\n",
      "2015-01-23  2503.60  2532.05\n",
      "2015-01-26  2503.60  2503.60\n",
      "2015-01-27  2502.05  2515.00\n",
      "2015-01-28  2539.60  2544.90\n",
      "2015-01-29  2544.65  2568.70\n",
      "2015-01-30  2482.05  2575.00\n",
      "2015-02-02  2514.20  2521.45\n",
      "2015-02-03  2558.25  2565.00\n",
      "2015-02-04  2514.30  2571.70\n",
      "2015-02-05  2552.40  2591.70\n",
      "2015-02-06  2575.75  2594.80\n",
      "2015-02-09  2512.90  2569.10\n",
      "2015-02-10  2441.15  2526.25\n",
      "2015-02-11  2459.90  2487.25\n",
      "...             ...      ...\n",
      "2015-10-21  2530.00  2542.00\n",
      "2015-10-22  2530.00  2530.00\n",
      "2015-10-23  2537.15  2548.00\n",
      "2015-10-26  2536.55  2549.00\n",
      "2015-10-27  2531.10  2544.90\n",
      "2015-10-28  2529.10  2533.55\n",
      "2015-10-29  2495.35  2535.40\n",
      "2015-10-30  2495.20  2511.90\n",
      "2015-11-02  2517.35  2522.80\n",
      "2015-11-03  2543.45  2547.80\n",
      "2015-11-04  2533.80  2547.20\n",
      "2015-11-05  2482.65  2534.95\n",
      "2015-11-06  2505.75  2518.25\n",
      "2015-11-09  2471.35  2502.75\n",
      "2015-11-10  2458.15  2477.00\n",
      "2015-11-11  2458.15  2458.15\n",
      "2015-11-12  2458.15  2458.15\n",
      "2015-11-13  2397.40  2438.05\n",
      "2015-11-16  2374.60  2390.00\n",
      "2015-11-17  2390.55  2398.45\n",
      "2015-11-18  2351.45  2388.90\n",
      "2015-11-19  2362.55  2381.60\n",
      "2015-11-20  2398.35  2423.55\n",
      "2015-11-23  2391.05  2413.40\n",
      "2015-11-24  2367.95  2392.45\n",
      "2015-11-25  2367.95  2367.95\n",
      "2015-11-26  2345.55  2382.40\n",
      "2015-11-27  2353.35  2359.45\n",
      "2015-11-30  2364.70  2391.25\n",
      "2015-12-01  2361.90  2378.05\n",
      "\n",
      "[239 rows x 2 columns]\n"
     ]
    }
   ],
   "source": [
    "dc1400 = dch[dch['CLOSE']>1400]\n",
    "print(dc1400)"
   ]
  },
  {
   "cell_type": "code",
   "execution_count": 26,
   "metadata": {
    "collapsed": false
   },
   "outputs": [
    {
     "name": "stdout",
     "output_type": "stream",
     "text": [
      "              Open     High      Low    Close   Volume  Adj Close    H-L  \\\n",
      "Date                                                                       \n",
      "2015-01-01  2567.0  2567.00  2541.00  2545.55   183400   2506.201  26.00   \n",
      "2015-01-02  2551.0  2590.95  2550.60  2579.45   462800   2539.577  40.35   \n",
      "2015-01-05  2581.0  2599.90  2524.65  2540.25   877100   2500.983  75.25   \n",
      "2015-01-06  2529.1  2529.10  2440.00  2446.60  1211800   2408.781  89.10   \n",
      "2015-01-07  2470.0  2479.15  2407.45  2417.70  1318100   2380.327  71.70   \n",
      "\n",
      "            Difference  \n",
      "Date                    \n",
      "2015-01-01         NaN  \n",
      "2015-01-02       33.90  \n",
      "2015-01-05      -39.20  \n",
      "2015-01-06      -93.65  \n",
      "2015-01-07      -28.90  \n"
     ]
    }
   ],
   "source": [
    "#lets add a new column for difference between High and LOW\n",
    "data['H-L'] = data['High'] - data['Low']\n",
    "\n",
    "#lets add another column for difference between previous close\n",
    "data['Difference'] = data['Close'].diff()\n",
    "\n",
    "print(data.head())"
   ]
  },
  {
   "cell_type": "code",
   "execution_count": 33,
   "metadata": {
    "collapsed": false
   },
   "outputs": [
    {
     "data": {
      "image/png": "[encoded data removed]",
      "text/plain": [
       "<matplotlib.figure.Figure at 0x21c808a9cc0>"
      ]
     },
     "metadata": {},
     "output_type": "display_data"
    }
   ],
   "source": [
    "#lets plot using Matplotlib\n",
    "import matplotlib.pyplot as plt \n",
    "%matplotlib inline \n",
    "\n",
    "columns =['Open','High', 'Low', 'Close']\n",
    "\n",
    "data[columns].plot()\n",
    "plt.show()\n",
    "\n"
   ]
  },
  {
   "cell_type": "code",
   "execution_count": 39,
   "metadata": {
    "collapsed": false
   },
   "outputs": [
    {
     "name": "stdout",
     "output_type": "stream",
     "text": [
      "         Date    Open     High      Low    Close   Volume  Adj Close\n",
      "0  2015-01-01  2567.0  2567.00  2541.00  2545.55   183400   2506.201\n",
      "1  2015-01-02  2551.0  2590.95  2550.60  2579.45   462800   2539.577\n",
      "2  2015-01-05  2581.0  2599.90  2524.65  2540.25   877100   2500.983\n",
      "3  2015-01-06  2529.1  2529.10  2440.00  2446.60  1211800   2408.781\n",
      "4  2015-01-07  2470.0  2479.15  2407.45  2417.70  1318100   2380.327\n"
     ]
    },
    {
     "data": {
      "image/png": "[encoded data removed]",
      "text/plain": [
       "<matplotlib.figure.Figure at 0x21c80500cf8>"
      ]
     },
     "metadata": {},
     "output_type": "display_data"
    }
   ],
   "source": [
    "from mpl_toolkits.mplot3d import Axes3D\n",
    "data = pd.read_csv('tcsdata.csv', parse_dates=True)\n",
    "print(data.head())\n",
    "data['H-L'] = data['High'] - data['Low']\n",
    "data['100ma'] = pd.rolling_mean(data['Close'],100) #added 100 mean column. \n",
    "\n",
    "#lets plot the 3d figure \n",
    "threeD = plt.figure().gca(projection='3d')\n",
    "threeD.scatter(data.index, data['H-L'], data['Close'])\n",
    "threeD.set_xlabel('Index')\n",
    "threeD.set_ylabel('H-L')\n",
    "threeD.set_zlabel('Close')\n",
    "plt.show()"
   ]
  },
  {
   "cell_type": "markdown",
   "metadata": {
    "collapsed": false
   },
   "source": [
    "# standard deviation example in pandas "
   ]
  },
  {
   "cell_type": "code",
   "execution_count": 41,
   "metadata": {
    "collapsed": false
   },
   "outputs": [
    {
     "data": {
      "image/png": "[encoded data removed]",
      "text/plain": [
       "<matplotlib.figure.Figure at 0x21cfe6248d0>"
      ]
     },
     "metadata": {},
     "output_type": "display_data"
    }
   ],
   "source": [
    "#read tcsdata file again \n",
    "data = pd.read_csv('tcsdata.csv', index_col='Date', parse_dates=True)\n",
    "\n",
    "data['H-L'] = data['High'] - data['Low']\n",
    "data['100ma'] = pd.rolling_mean(data['Close'], 100, min_periods=1)\n",
    "data['Difference'] = data['Close'].diff()\n",
    "data['STD'] = pd.rolling_std(data['Close'], 100, min_periods=1)\n",
    "\n",
    "ax1 = plt.subplot(2,1,1)\n",
    "data['Close'].plot()\n",
    "ax2 = plt.subplot(2,1,2, sharex=ax1)\n",
    "data['STD'].plot()\n",
    "\n",
    "plt.show()\n",
    "\n",
    "\n",
    "\n",
    "\n"
   ]
  },
  {
   "cell_type": "markdown",
   "metadata": {},
   "source": [
    "# Statistics information of Data using pandas"
   ]
  },
  {
   "cell_type": "code",
   "execution_count": 42,
   "metadata": {
    "collapsed": false
   },
   "outputs": [
    {
     "data": {
      "text/html": [
       "<div>\n",
       "<table border=\"1\" class=\"dataframe\">\n",
       "  <thead>\n",
       "    <tr style=\"text-align: right;\">\n",
       "      <th></th>\n",
       "      <th>Open</th>\n",
       "      <th>High</th>\n",
       "      <th>Low</th>\n",
       "      <th>Close</th>\n",
       "      <th>Volume</th>\n",
       "      <th>Adj Close</th>\n",
       "      <th>H-L</th>\n",
       "      <th>100ma</th>\n",
       "      <th>Difference</th>\n",
       "      <th>STD</th>\n",
       "    </tr>\n",
       "  </thead>\n",
       "  <tbody>\n",
       "    <tr>\n",
       "      <th>count</th>\n",
       "      <td>239.000000</td>\n",
       "      <td>239.000000</td>\n",
       "      <td>239.000000</td>\n",
       "      <td>239.000000</td>\n",
       "      <td>239.000000</td>\n",
       "      <td>239.000000</td>\n",
       "      <td>239.000000</td>\n",
       "      <td>239.000000</td>\n",
       "      <td>238.000000</td>\n",
       "      <td>238.000000</td>\n",
       "    </tr>\n",
       "    <tr>\n",
       "      <th>mean</th>\n",
       "      <td>2555.157113</td>\n",
       "      <td>2575.604393</td>\n",
       "      <td>2528.025314</td>\n",
       "      <td>2549.999791</td>\n",
       "      <td>1131039.330544</td>\n",
       "      <td>2530.587251</td>\n",
       "      <td>47.579079</td>\n",
       "      <td>2555.106773</td>\n",
       "      <td>-0.771639</td>\n",
       "      <td>65.064022</td>\n",
       "    </tr>\n",
       "    <tr>\n",
       "      <th>std</th>\n",
       "      <td>77.178900</td>\n",
       "      <td>80.758207</td>\n",
       "      <td>74.021692</td>\n",
       "      <td>78.392262</td>\n",
       "      <td>667958.175772</td>\n",
       "      <td>76.836101</td>\n",
       "      <td>24.394263</td>\n",
       "      <td>20.563146</td>\n",
       "      <td>32.580167</td>\n",
       "      <td>13.831269</td>\n",
       "    </tr>\n",
       "    <tr>\n",
       "      <th>min</th>\n",
       "      <td>2348.000000</td>\n",
       "      <td>2359.450000</td>\n",
       "      <td>2332.500000</td>\n",
       "      <td>2345.550000</td>\n",
       "      <td>0.000000</td>\n",
       "      <td>2345.550000</td>\n",
       "      <td>0.000000</td>\n",
       "      <td>2495.558333</td>\n",
       "      <td>-114.850000</td>\n",
       "      <td>21.267894</td>\n",
       "    </tr>\n",
       "    <tr>\n",
       "      <th>25%</th>\n",
       "      <td>2511.325000</td>\n",
       "      <td>2527.125000</td>\n",
       "      <td>2485.000000</td>\n",
       "      <td>2506.275000</td>\n",
       "      <td>753300.000000</td>\n",
       "      <td>2481.177000</td>\n",
       "      <td>31.875000</td>\n",
       "      <td>2551.343000</td>\n",
       "      <td>-17.425000</td>\n",
       "      <td>55.728872</td>\n",
       "    </tr>\n",
       "    <tr>\n",
       "      <th>50%</th>\n",
       "      <td>2553.300000</td>\n",
       "      <td>2570.100000</td>\n",
       "      <td>2527.100000</td>\n",
       "      <td>2547.450000</td>\n",
       "      <td>1029200.000000</td>\n",
       "      <td>2533.800000</td>\n",
       "      <td>43.950000</td>\n",
       "      <td>2561.980000</td>\n",
       "      <td>0.000000</td>\n",
       "      <td>66.107458</td>\n",
       "    </tr>\n",
       "    <tr>\n",
       "      <th>75%</th>\n",
       "      <td>2598.475000</td>\n",
       "      <td>2621.850000</td>\n",
       "      <td>2570.475000</td>\n",
       "      <td>2593.400000</td>\n",
       "      <td>1383500.000000</td>\n",
       "      <td>2575.389000</td>\n",
       "      <td>60.350000</td>\n",
       "      <td>2568.705143</td>\n",
       "      <td>16.175000</td>\n",
       "      <td>76.577089</td>\n",
       "    </tr>\n",
       "    <tr>\n",
       "      <th>max</th>\n",
       "      <td>2788.000000</td>\n",
       "      <td>2812.100000</td>\n",
       "      <td>2721.900000</td>\n",
       "      <td>2776.000000</td>\n",
       "      <td>4834300.000000</td>\n",
       "      <td>2738.558000</td>\n",
       "      <td>128.000000</td>\n",
       "      <td>2577.173000</td>\n",
       "      <td>106.600000</td>\n",
       "      <td>88.884146</td>\n",
       "    </tr>\n",
       "  </tbody>\n",
       "</table>\n",
       "</div>"
      ],
      "text/plain": [
       "              Open         High          Low        Close          Volume  \\\n",
       "count   239.000000   239.000000   239.000000   239.000000      239.000000   \n",
       "mean   2555.157113  2575.604393  2528.025314  2549.999791  1131039.330544   \n",
       "std      77.178900    80.758207    74.021692    78.392262   667958.175772   \n",
       "min    2348.000000  2359.450000  2332.500000  2345.550000        0.000000   \n",
       "25%    2511.325000  2527.125000  2485.000000  2506.275000   753300.000000   \n",
       "50%    2553.300000  2570.100000  2527.100000  2547.450000  1029200.000000   \n",
       "75%    2598.475000  2621.850000  2570.475000  2593.400000  1383500.000000   \n",
       "max    2788.000000  2812.100000  2721.900000  2776.000000  4834300.000000   \n",
       "\n",
       "         Adj Close         H-L        100ma  Difference         STD  \n",
       "count   239.000000  239.000000   239.000000  238.000000  238.000000  \n",
       "mean   2530.587251   47.579079  2555.106773   -0.771639   65.064022  \n",
       "std      76.836101   24.394263    20.563146   32.580167   13.831269  \n",
       "min    2345.550000    0.000000  2495.558333 -114.850000   21.267894  \n",
       "25%    2481.177000   31.875000  2551.343000  -17.425000   55.728872  \n",
       "50%    2533.800000   43.950000  2561.980000    0.000000   66.107458  \n",
       "75%    2575.389000   60.350000  2568.705143   16.175000   76.577089  \n",
       "max    2738.558000  128.000000  2577.173000  106.600000   88.884146  "
      ]
     },
     "execution_count": 42,
     "metadata": {},
     "output_type": "execute_result"
    }
   ],
   "source": [
    "#describe data \n",
    "data.describe()"
   ]
  },
  {
   "cell_type": "code",
   "execution_count": 43,
   "metadata": {
    "collapsed": false
   },
   "outputs": [
    {
     "data": {
      "text/html": [
       "<div>\n",
       "<table border=\"1\" class=\"dataframe\">\n",
       "  <thead>\n",
       "    <tr style=\"text-align: right;\">\n",
       "      <th></th>\n",
       "      <th>Open</th>\n",
       "      <th>High</th>\n",
       "      <th>Low</th>\n",
       "      <th>Close</th>\n",
       "      <th>Volume</th>\n",
       "      <th>Adj Close</th>\n",
       "      <th>H-L</th>\n",
       "      <th>100ma</th>\n",
       "      <th>Difference</th>\n",
       "      <th>STD</th>\n",
       "    </tr>\n",
       "  </thead>\n",
       "  <tbody>\n",
       "    <tr>\n",
       "      <th>Open</th>\n",
       "      <td>1.000000</td>\n",
       "      <td>0.964488</td>\n",
       "      <td>0.953395</td>\n",
       "      <td>0.923008</td>\n",
       "      <td>0.045999</td>\n",
       "      <td>0.904340</td>\n",
       "      <td>0.300005</td>\n",
       "      <td>0.234135</td>\n",
       "      <td>-0.125602</td>\n",
       "      <td>0.043367</td>\n",
       "    </tr>\n",
       "    <tr>\n",
       "      <th>High</th>\n",
       "      <td>0.964488</td>\n",
       "      <td>1.000000</td>\n",
       "      <td>0.954022</td>\n",
       "      <td>0.965896</td>\n",
       "      <td>0.091941</td>\n",
       "      <td>0.943595</td>\n",
       "      <td>0.415667</td>\n",
       "      <td>0.204492</td>\n",
       "      <td>0.051361</td>\n",
       "      <td>0.031619</td>\n",
       "    </tr>\n",
       "    <tr>\n",
       "      <th>Low</th>\n",
       "      <td>0.953395</td>\n",
       "      <td>0.954022</td>\n",
       "      <td>1.000000</td>\n",
       "      <td>0.974070</td>\n",
       "      <td>-0.090699</td>\n",
       "      <td>0.960182</td>\n",
       "      <td>0.123940</td>\n",
       "      <td>0.239655</td>\n",
       "      <td>0.098912</td>\n",
       "      <td>0.028190</td>\n",
       "    </tr>\n",
       "    <tr>\n",
       "      <th>Close</th>\n",
       "      <td>0.923008</td>\n",
       "      <td>0.965896</td>\n",
       "      <td>0.974070</td>\n",
       "      <td>1.000000</td>\n",
       "      <td>-0.034921</td>\n",
       "      <td>0.981112</td>\n",
       "      <td>0.241931</td>\n",
       "      <td>0.202289</td>\n",
       "      <td>0.236638</td>\n",
       "      <td>0.023554</td>\n",
       "    </tr>\n",
       "    <tr>\n",
       "      <th>Volume</th>\n",
       "      <td>0.045999</td>\n",
       "      <td>0.091941</td>\n",
       "      <td>-0.090699</td>\n",
       "      <td>-0.034921</td>\n",
       "      <td>1.000000</td>\n",
       "      <td>-0.058753</td>\n",
       "      <td>0.579590</td>\n",
       "      <td>-0.072610</td>\n",
       "      <td>-0.187377</td>\n",
       "      <td>-0.045069</td>\n",
       "    </tr>\n",
       "    <tr>\n",
       "      <th>Adj Close</th>\n",
       "      <td>0.904340</td>\n",
       "      <td>0.943595</td>\n",
       "      <td>0.960182</td>\n",
       "      <td>0.981112</td>\n",
       "      <td>-0.058753</td>\n",
       "      <td>1.000000</td>\n",
       "      <td>0.210243</td>\n",
       "      <td>0.284482</td>\n",
       "      <td>0.231700</td>\n",
       "      <td>-0.003660</td>\n",
       "    </tr>\n",
       "    <tr>\n",
       "      <th>H-L</th>\n",
       "      <td>0.300005</td>\n",
       "      <td>0.415667</td>\n",
       "      <td>0.123940</td>\n",
       "      <td>0.241931</td>\n",
       "      <td>0.579590</td>\n",
       "      <td>0.210243</td>\n",
       "      <td>1.000000</td>\n",
       "      <td>-0.050227</td>\n",
       "      <td>-0.130304</td>\n",
       "      <td>0.019170</td>\n",
       "    </tr>\n",
       "    <tr>\n",
       "      <th>100ma</th>\n",
       "      <td>0.234135</td>\n",
       "      <td>0.204492</td>\n",
       "      <td>0.239655</td>\n",
       "      <td>0.202289</td>\n",
       "      <td>-0.072610</td>\n",
       "      <td>0.284482</td>\n",
       "      <td>-0.050227</td>\n",
       "      <td>1.000000</td>\n",
       "      <td>-0.112297</td>\n",
       "      <td>0.524775</td>\n",
       "    </tr>\n",
       "    <tr>\n",
       "      <th>Difference</th>\n",
       "      <td>-0.125602</td>\n",
       "      <td>0.051361</td>\n",
       "      <td>0.098912</td>\n",
       "      <td>0.236638</td>\n",
       "      <td>-0.187377</td>\n",
       "      <td>0.231700</td>\n",
       "      <td>-0.130304</td>\n",
       "      <td>-0.112297</td>\n",
       "      <td>1.000000</td>\n",
       "      <td>-0.066904</td>\n",
       "    </tr>\n",
       "    <tr>\n",
       "      <th>STD</th>\n",
       "      <td>0.043367</td>\n",
       "      <td>0.031619</td>\n",
       "      <td>0.028190</td>\n",
       "      <td>0.023554</td>\n",
       "      <td>-0.045069</td>\n",
       "      <td>-0.003660</td>\n",
       "      <td>0.019170</td>\n",
       "      <td>0.524775</td>\n",
       "      <td>-0.066904</td>\n",
       "      <td>1.000000</td>\n",
       "    </tr>\n",
       "  </tbody>\n",
       "</table>\n",
       "</div>"
      ],
      "text/plain": [
       "                Open      High       Low     Close    Volume  Adj Close  \\\n",
       "Open        1.000000  0.964488  0.953395  0.923008  0.045999   0.904340   \n",
       "High        0.964488  1.000000  0.954022  0.965896  0.091941   0.943595   \n",
       "Low         0.953395  0.954022  1.000000  0.974070 -0.090699   0.960182   \n",
       "Close       0.923008  0.965896  0.974070  1.000000 -0.034921   0.981112   \n",
       "Volume      0.045999  0.091941 -0.090699 -0.034921  1.000000  -0.058753   \n",
       "Adj Close   0.904340  0.943595  0.960182  0.981112 -0.058753   1.000000   \n",
       "H-L         0.300005  0.415667  0.123940  0.241931  0.579590   0.210243   \n",
       "100ma       0.234135  0.204492  0.239655  0.202289 -0.072610   0.284482   \n",
       "Difference -0.125602  0.051361  0.098912  0.236638 -0.187377   0.231700   \n",
       "STD         0.043367  0.031619  0.028190  0.023554 -0.045069  -0.003660   \n",
       "\n",
       "                 H-L     100ma  Difference       STD  \n",
       "Open        0.300005  0.234135   -0.125602  0.043367  \n",
       "High        0.415667  0.204492    0.051361  0.031619  \n",
       "Low         0.123940  0.239655    0.098912  0.028190  \n",
       "Close       0.241931  0.202289    0.236638  0.023554  \n",
       "Volume      0.579590 -0.072610   -0.187377 -0.045069  \n",
       "Adj Close   0.210243  0.284482    0.231700 -0.003660  \n",
       "H-L         1.000000 -0.050227   -0.130304  0.019170  \n",
       "100ma      -0.050227  1.000000   -0.112297  0.524775  \n",
       "Difference -0.130304 -0.112297    1.000000 -0.066904  \n",
       "STD         0.019170  0.524775   -0.066904  1.000000  "
      ]
     },
     "execution_count": 43,
     "metadata": {},
     "output_type": "execute_result"
    }
   ],
   "source": [
    "#corelation \n",
    "data.corr()"
   ]
  },
  {
   "cell_type": "code",
   "execution_count": 44,
   "metadata": {
    "collapsed": false
   },
   "outputs": [
    {
     "data": {
      "text/html": [
       "<div>\n",
       "<table border=\"1\" class=\"dataframe\">\n",
       "  <thead>\n",
       "    <tr style=\"text-align: right;\">\n",
       "      <th></th>\n",
       "      <th>Open</th>\n",
       "      <th>Close</th>\n",
       "    </tr>\n",
       "  </thead>\n",
       "  <tbody>\n",
       "    <tr>\n",
       "      <th>Open</th>\n",
       "      <td>1.000000</td>\n",
       "      <td>0.923008</td>\n",
       "    </tr>\n",
       "    <tr>\n",
       "      <th>Close</th>\n",
       "      <td>0.923008</td>\n",
       "      <td>1.000000</td>\n",
       "    </tr>\n",
       "  </tbody>\n",
       "</table>\n",
       "</div>"
      ],
      "text/plain": [
       "           Open     Close\n",
       "Open   1.000000  0.923008\n",
       "Close  0.923008  1.000000"
      ]
     },
     "execution_count": 44,
     "metadata": {},
     "output_type": "execute_result"
    }
   ],
   "source": [
    "#if you want to get the information of only particular columns \n",
    "columns = ['Open','Close']\n",
    "data[columns].corr()"
   ]
  },
  {
   "cell_type": "markdown",
   "metadata": {},
   "source": [
    "#Application of Correlation "
   ]
  },
  {
   "cell_type": "code",
   "execution_count": 61,
   "metadata": {
    "collapsed": false
   },
   "outputs": [
    {
     "name": "stdout",
     "output_type": "stream",
     "text": [
      "              Open    High     Low   Close   Volume  Adj Close\n",
      "Date                                                          \n",
      "2010-01-01  748.80  748.80  748.80  748.80        0    681.777\n",
      "2010-01-04  754.80  758.90  749.05  752.25   981800    684.919\n",
      "2010-01-05  755.00  759.55  746.55  748.70  1007200    681.686\n",
      "2010-01-06  751.85  752.20  733.00  737.00  1674500    671.034\n",
      "2010-01-07  735.50  739.40  711.00  711.85  3237400    648.135\n"
     ]
    }
   ],
   "source": [
    "#Fetch data for TCS, WIPRO, L&T, JPAssociates , SBI\n",
    "#please remember pandas.io.data is required to fetch the data from yahoo site \n",
    "\n",
    "startdate = datetime.datetime(2010,1,1)\n",
    "enddate = datetime.datetime(2015,12,1)\n",
    "TCS = pd.io.data.get_data_yahoo('TCS.NS',start = startdate, end=enddate)\n",
    "WIPRO = pd.io.data.get_data_yahoo('WIPRO.NS',start = startdate, end=enddate)\n",
    "LT = pd.io.data.get_data_yahoo('LT.NS',start = startdate, end=enddate)\n",
    "JPASS = pd.io.data.get_data_yahoo('JPASSOCIA.NS',start = startdate, end=enddate)\n",
    "SBI = pd.io.data.get_data_yahoo('SBIN.NS',start = startdate, end=enddate)\n",
    "\n",
    "print(TCS.head())\n"
   ]
  },
  {
   "cell_type": "code",
   "execution_count": 63,
   "metadata": {
    "collapsed": false
   },
   "outputs": [],
   "source": [
    "#write TCS data to file. \n",
    "TCS.to_csv('TCS2015.csv')"
   ]
  },
  {
   "cell_type": "markdown",
   "metadata": {},
   "source": [
    "# Generally people want correlation table on Ajd close .. so lets create new data frame with all the Adj Close values. "
   ]
  },
  {
   "cell_type": "code",
   "execution_count": 64,
   "metadata": {
    "collapsed": false
   },
   "outputs": [
    {
     "data": {
      "text/html": [
       "<div>\n",
       "<table border=\"1\" class=\"dataframe\">\n",
       "  <thead>\n",
       "    <tr style=\"text-align: right;\">\n",
       "      <th></th>\n",
       "      <th>Adj Close</th>\n",
       "    </tr>\n",
       "    <tr>\n",
       "      <th>Date</th>\n",
       "      <th></th>\n",
       "    </tr>\n",
       "  </thead>\n",
       "  <tbody>\n",
       "    <tr>\n",
       "      <th>2010-01-01</th>\n",
       "      <td>681.777</td>\n",
       "    </tr>\n",
       "    <tr>\n",
       "      <th>2010-01-04</th>\n",
       "      <td>684.919</td>\n",
       "    </tr>\n",
       "    <tr>\n",
       "      <th>2010-01-05</th>\n",
       "      <td>681.686</td>\n",
       "    </tr>\n",
       "    <tr>\n",
       "      <th>2010-01-06</th>\n",
       "      <td>671.034</td>\n",
       "    </tr>\n",
       "    <tr>\n",
       "      <th>2010-01-07</th>\n",
       "      <td>648.135</td>\n",
       "    </tr>\n",
       "  </tbody>\n",
       "</table>\n",
       "</div>"
      ],
      "text/plain": [
       "            Adj Close\n",
       "Date                 \n",
       "2010-01-01    681.777\n",
       "2010-01-04    684.919\n",
       "2010-01-05    681.686\n",
       "2010-01-06    671.034\n",
       "2010-01-07    648.135"
      ]
     },
     "execution_count": 64,
     "metadata": {},
     "output_type": "execute_result"
    }
   ],
   "source": [
    "#first delete all the columns except Adj Close\n",
    "TCS1 = TCS\n",
    "del TCS['Open']\n",
    "del TCS['High']\n",
    "del TCS['Low']\n",
    "del TCS['Close']\n",
    "del TCS['Volume']\n",
    "corrComp = TCS\n",
    "corrComp.head()"
   ]
  },
  {
   "cell_type": "markdown",
   "metadata": {},
   "source": [
    "### lets rename Adj Close to company name i.e. TCS and add other companies data too"
   ]
  },
  {
   "cell_type": "code",
   "execution_count": 67,
   "metadata": {
    "collapsed": false
   },
   "outputs": [
    {
     "name": "stdout",
     "output_type": "stream",
     "text": [
      "            TCS     WIPRO        LT     JPASS       SBI\n",
      "TCS    1.000000  0.902872  0.727051 -0.855365  0.809153\n",
      "WIPRO  0.902872  1.000000  0.778724 -0.689413  0.756599\n",
      "LT     0.727051  0.778724  1.000000 -0.447153  0.828794\n",
      "JPASS -0.855365 -0.689413 -0.447153  1.000000 -0.634544\n",
      "SBI    0.809153  0.756599  0.828794 -0.634544  1.000000\n"
     ]
    },
    {
     "data": {
      "image/png": "[encoded data removed]",
      "text/plain": [
       "<matplotlib.figure.Figure at 0x21c807ac3c8>"
      ]
     },
     "metadata": {},
     "output_type": "display_data"
    }
   ],
   "source": [
    "corrComp.rename(columns={'Adj Close': 'TCS'}, inplace=True)\n",
    "corrComp['WIPRO'] = WIPRO['Adj Close']\n",
    "corrComp['LT'] = LT['Adj Close']\n",
    "corrComp['JPASS'] = JPASS['Adj Close']\n",
    "corrComp['SBI'] = SBI['Adj Close']\n",
    "\n",
    "corrComp.plot()\n",
    "print(corrComp.corr())"
   ]
  },
  {
   "cell_type": "code",
   "execution_count": 52,
   "metadata": {
    "collapsed": false
   },
   "outputs": [
    {
     "name": "stdout",
     "output_type": "stream",
     "text": [
      "              C     WIPRO        LT     JPASS       SBI\n",
      "C      1.000000  0.902872  0.727051 -0.855365  0.809153\n",
      "WIPRO  0.902872  1.000000  0.778724 -0.689413  0.756599\n",
      "LT     0.727051  0.778724  1.000000 -0.447153  0.828794\n",
      "JPASS -0.855365 -0.689413 -0.447153  1.000000 -0.634544\n",
      "SBI    0.809153  0.756599  0.828794 -0.634544  1.000000\n"
     ]
    }
   ],
   "source": [
    "print(corrComp.corr())"
   ]
  },
  {
   "cell_type": "code",
   "execution_count": 59,
   "metadata": {
    "collapsed": false
   },
   "outputs": [],
   "source": [
    "corrData = corrComp.corr()\n",
    "corrData.to_csv('corrdata.csv')"
   ]
  },
  {
   "cell_type": "code",
   "execution_count": null,
   "metadata": {
    "collapsed": true
   },
   "outputs": [],
   "source": []
  }
 ],
 "metadata": {
  "kernelspec": {
   "display_name": "Python 3",
   "language": "python",
   "name": "python3"
  },
  "language_info": {
   "codemirror_mode": {
    "name": "ipython",
    "version": 3
   },
   "file_extension": ".py",
   "mimetype": "text/x-python",
   "name": "python",
   "nbconvert_exporter": "python",
   "pygments_lexer": "ipython3",
   "version": "3.5.1"
  }
 },
 "nbformat": 4,
 "nbformat_minor": 0
}
